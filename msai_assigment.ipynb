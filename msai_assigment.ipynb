{
  "nbformat": 4,
  "nbformat_minor": 0,
  "metadata": {
    "colab": {
      "provenance": [],
      "authorship_tag": "ABX9TyO5wO+gaxoCcq2rdEfRWef1",
      "include_colab_link": true
    },
    "kernelspec": {
      "name": "python3",
      "display_name": "Python 3"
    },
    "language_info": {
      "name": "python"
    }
  },
  "cells": [
    {
      "cell_type": "markdown",
      "metadata": {
        "id": "view-in-github",
        "colab_type": "text"
      },
      "source": [
        "<a href=\"https://colab.research.google.com/github/hetpatel93130/Basic-codes-for-C-language/blob/main/msai_assigment.ipynb\" target=\"_parent\"><img src=\"https://colab.research.google.com/assets/colab-badge.svg\" alt=\"Open In Colab\"/></a>"
      ]
    },
    {
      "cell_type": "code",
      "execution_count": null,
      "metadata": {
        "id": "2lC0hHuz1AZO"
      },
      "outputs": [],
      "source": [
        "def calc_areaofcircle(radius):\n",
        "  area=radius*3.14\n",
        "  print(\"area of circle =\",area,\"m^2\")\n",
        "calc_areaofcircle(2)"
      ]
    },
    {
      "cell_type": "code",
      "source": [
        "def add_subtract(x,y):\n",
        "  print(\"addition =\",x+y)\n",
        "  print(\"subtraction =\",x-y)\n",
        "add_subtract(4,2)"
      ],
      "metadata": {
        "colab": {
          "base_uri": "https://localhost:8080/"
        },
        "id": "x-OPiDUT1I19",
        "outputId": "60211c98-4f61-4660-9d00-f4771e0f824e"
      },
      "execution_count": 2,
      "outputs": [
        {
          "output_type": "stream",
          "name": "stdout",
          "text": [
            "addition = 6\n",
            "subtraction = 2\n"
          ]
        }
      ]
    },
    {
      "cell_type": "code",
      "source": [
        "def sum(v1,v2):\n",
        " add=v1+v2\n",
        " return add\n",
        "sum(2,4)\n",
        "\n",
        "'''return will give us computed result while\n",
        "print() give us performing result'''\n",
        "\n",
        "def sum(v1,v2):\n",
        "  print(\"add =\",v1+v2)\n",
        "sum(2,4)"
      ],
      "metadata": {
        "colab": {
          "base_uri": "https://localhost:8080/"
        },
        "id": "c_SsxsLr1bXQ",
        "outputId": "6a73320f-0744-4fb5-bdb9-2dfc3c9588c8"
      },
      "execution_count": 9,
      "outputs": [
        {
          "output_type": "stream",
          "name": "stdout",
          "text": [
            "add = 6\n"
          ]
        }
      ]
    },
    {
      "cell_type": "code",
      "source": [
        "'''keyword argument'''\n",
        "def person_details(name,age):\n",
        "  print(\"person name is\",name)\n",
        "  print(\"age of person is\",age)\n",
        "person_details('het',17)\n",
        "\n",
        "'''positional arguments'''\n",
        "def person_details(name='het',age=17):\n",
        "  print(\"person name is\",name)\n",
        "  print(\"age of person is\",age)\n",
        "person_details()\n"
      ],
      "metadata": {
        "colab": {
          "base_uri": "https://localhost:8080/"
        },
        "id": "NaC9bqMH3fEY",
        "outputId": "2508f51f-1220-481d-8e78-147159f7cdb2"
      },
      "execution_count": 13,
      "outputs": [
        {
          "output_type": "stream",
          "name": "stdout",
          "text": [
            "person name is het\n",
            "age of person is 17\n",
            "person name is het\n",
            "age of person is 17\n"
          ]
        }
      ]
    },
    {
      "cell_type": "code",
      "source": [
        "def sum_all(lists):\n",
        "   sum=0\n",
        "   for item in lists:\n",
        "    sum+=item\n",
        "   print(\"sum of all numbers =\",sum)\n",
        "sum_all(lists=[2,3,4,2,3,4])"
      ],
      "metadata": {
        "colab": {
          "base_uri": "https://localhost:8080/"
        },
        "id": "xrtlDTVE4b2X",
        "outputId": "f89322df-8a3c-47b2-f6c1-550d898113bc"
      },
      "execution_count": 19,
      "outputs": [
        {
          "output_type": "stream",
          "name": "stdout",
          "text": [
            "sum of all numbers = 18\n"
          ]
        }
      ]
    },
    {
      "cell_type": "markdown",
      "source": [],
      "metadata": {
        "id": "EkEdmHyO6iqR"
      }
    },
    {
      "cell_type": "code",
      "source": [
        "def final_price(price,discount,gst=18):\n",
        "  discounted_price= price - (price*discount)/100.0\n",
        "  final_price=discounted_price + (discounted_price*18)/100.0\n",
        "  print(\"final price =\",final_price)\n",
        "\n",
        "final_price(1000,10)"
      ],
      "metadata": {
        "colab": {
          "base_uri": "https://localhost:8080/"
        },
        "id": "m_Tjikwk6YVp",
        "outputId": "c3d42e2a-79d5-44a0-9e6f-8f5a2ab1a665"
      },
      "execution_count": 20,
      "outputs": [
        {
          "output_type": "stream",
          "name": "stdout",
          "text": [
            "final price = 1062.0\n"
          ]
        }
      ]
    }
  ]
}